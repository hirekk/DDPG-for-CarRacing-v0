{
 "cells": [
  {
   "cell_type": "code",
   "execution_count": 1,
   "metadata": {},
   "outputs": [],
   "source": [
    "import gym\n",
    "import matplotlib.pyplot as plt\n",
    "import numpy as np\n",
    "from pathlib import Path\n",
    "import torch\n",
    "\n",
    "from ddpg_agent import Agent"
   ]
  },
  {
   "cell_type": "code",
   "execution_count": 2,
   "metadata": {},
   "outputs": [
    {
     "name": "stderr",
     "output_type": "stream",
     "text": [
      "/home/hirekk/anaconda3/envs/RL_GAT/lib/python3.8/site-packages/gym/logger.py:30: UserWarning: \u001b[33mWARN: Box bound precision lowered by casting to float32\u001b[0m\n",
      "  warnings.warn(colorize('%s: %s'%('WARN', msg % args), 'yellow'))\n"
     ]
    }
   ],
   "source": [
    "env_name = 'CarRacing-v0'\n",
    "env = gym.make(env_name, verbose=0)\n",
    "action_dim = env.action_space.shape[0]"
   ]
  },
  {
   "cell_type": "markdown",
   "metadata": {},
   "source": [
    "### Watch a trained agent\n",
    "\n",
    "Run the code cells below to watch a trained agent, which is loaded from the locally saved checkpoint files."
   ]
  },
  {
   "cell_type": "code",
   "execution_count": 3,
   "metadata": {},
   "outputs": [
    {
     "data": {
      "text/plain": [
       "<All keys matched successfully>"
      ]
     },
     "execution_count": 3,
     "metadata": {},
     "output_type": "execute_result"
    }
   ],
   "source": [
    "agent=  Agent(action_dim=action_dim, seed=42)\n",
    "\n",
    "# Load the weights from file.\n",
    "agent.actor_local.load_state_dict(torch.load(Path('models', 'checkpoint_actor.pth'), map_location='cpu'))"
   ]
  },
  {
   "cell_type": "code",
   "execution_count": 4,
   "metadata": {},
   "outputs": [
    {
     "name": "stdout",
     "output_type": "stream",
     "text": [
      "Total reward this episode: 104.8611111111164\n"
     ]
    }
   ],
   "source": [
    "n_timesteps = 1_000\n",
    "ep_reward = 0\n",
    "\n",
    "state = env.reset()\n",
    "for timestep in range(n_timesteps):\n",
    "    action = agent.act(state)\n",
    "    next_state, reward, is_done, _ = env.step(action)\n",
    "    agent.step(state, action, reward, next_state, is_done)\n",
    "    \n",
    "    state = next_state\n",
    "    ep_reward += reward\n",
    "\n",
    "    env.render()\n",
    "    if is_done:\n",
    "        break\n",
    "\n",
    "print(f'Total reward this episode: {ep_reward}')"
   ]
  }
 ],
 "metadata": {
  "kernelspec": {
   "display_name": "Python 3",
   "language": "python",
   "name": "python3"
  },
  "language_info": {
   "codemirror_mode": {
    "name": "ipython",
    "version": 3
   },
   "file_extension": ".py",
   "mimetype": "text/x-python",
   "name": "python",
   "nbconvert_exporter": "python",
   "pygments_lexer": "ipython3",
   "version": "3.8.6"
  }
 },
 "nbformat": 4,
 "nbformat_minor": 2
}
