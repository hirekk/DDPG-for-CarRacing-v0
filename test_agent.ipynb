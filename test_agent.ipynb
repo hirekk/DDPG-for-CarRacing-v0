{
 "cells": [
  {
   "cell_type": "code",
   "execution_count": null,
   "metadata": {},
   "outputs": [],
   "source": [
    "import gym\n",
    "import matplotlib.pyplot as plt\n",
    "import numpy as np\n",
    "import os\n",
    "import pandas as pd\n",
    "from pathlib import Path\n",
    "import torch\n",
    "\n",
    "from ddpg_agent import Agent"
   ]
  },
  {
   "cell_type": "code",
   "execution_count": null,
   "metadata": {},
   "outputs": [],
   "source": [
    "env_name = 'CarRacing-v0'\n",
    "env = gym.make(env_name, verbose=0)\n",
    "action_dim = env.action_space.shape[0]"
   ]
  },
  {
   "cell_type": "markdown",
   "metadata": {},
   "source": [
    "### Watch a trained agent\n",
    "\n",
    "Run the code cells below to watch a trained agent, which is loaded from the locally saved checkpoint files."
   ]
  },
  {
   "cell_type": "code",
   "execution_count": null,
   "metadata": {},
   "outputs": [],
   "source": [
    "ckpt_dirname = '21-01-2021_21:15:45'"
   ]
  },
  {
   "cell_type": "code",
   "execution_count": null,
   "metadata": {},
   "outputs": [],
   "source": [
    "agent=  Agent(action_dim=action_dim, seed=42)\n",
    "\n",
    "# Load the weights from file.\n",
    "ckpt_dirpath = Path('tmp', ckpt_dirname)\n",
    "agent.actor_local.load_state_dict(torch.load(Path(ckpt_dirpath, 'checkpoint_actor.pth'), map_location='cpu'))"
   ]
  },
  {
   "cell_type": "code",
   "execution_count": null,
   "metadata": {},
   "outputs": [],
   "source": [
    "history_fpath = Path(ckpt_dirpath, 'history.csv')\n",
    "\n",
    "if os.path.isfile(history_fpath):\n",
    "    history = pd.read_csv(history_fpath, index_col=0)\n",
    "    fig, ax = plt.subplots(figsize=(10, 6))\n",
    "    ax.plot(history.index, history.values)\n",
    "    ax.set_ylabel('Reward')\n",
    "    ax.set_xlabel('Episode #')\n",
    "    ax.set_title('Train run rewards')\n",
    "    plt.show()\n",
    "else:\n",
    "    print('No train history to display.')"
   ]
  },
  {
   "cell_type": "code",
   "execution_count": null,
   "metadata": {},
   "outputs": [],
   "source": [
    "n_timesteps = 1_000\n",
    "ep_reward = 0\n",
    "\n",
    "state = env.reset()\n",
    "for timestep in range(n_timesteps):\n",
    "    action = agent.act(state)\n",
    "    next_state, reward, is_done, _ = env.step(action)\n",
    "    agent.step(state, action, reward, next_state, is_done)\n",
    "    \n",
    "    state = next_state\n",
    "    ep_reward += reward\n",
    "\n",
    "    env.render()\n",
    "    if is_done:\n",
    "        break\n",
    "\n",
    "print(f'Total reward this episode: {ep_reward}')"
   ]
  }
 ],
 "metadata": {
  "kernelspec": {
   "display_name": "Python 3",
   "language": "python",
   "name": "python3"
  },
  "language_info": {
   "codemirror_mode": {
    "name": "ipython",
    "version": 3
   },
   "file_extension": ".py",
   "mimetype": "text/x-python",
   "name": "python",
   "nbconvert_exporter": "python",
   "pygments_lexer": "ipython3",
   "version": "3.8.6"
  }
 },
 "nbformat": 4,
 "nbformat_minor": 2
}
