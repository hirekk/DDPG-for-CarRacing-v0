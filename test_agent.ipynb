{
 "cells": [
  {
   "cell_type": "code",
   "execution_count": null,
   "metadata": {},
   "outputs": [],
   "source": [
    "import numpy as np\n",
    "import gym\n",
    "# import random\n",
    "import torch\n",
    "# from collections import deque\n",
    "import matplotlib.pyplot as plt\n",
    "\n",
    "from ddpg_agent import Agent"
   ]
  },
  {
   "cell_type": "code",
   "execution_count": null,
   "metadata": {},
   "outputs": [],
   "source": [
    "env_name = 'CarRacing-v0'\n",
    "env = gym.make(env_name, verbose=0)\n",
    "action_dim = env.action_space.shape[0]"
   ]
  },
  {
   "cell_type": "markdown",
   "metadata": {},
   "source": [
    "### Watch a trained agent\n",
    "\n",
    "Run the code cells below to watch a trained agent, which is loaded from the locally saved checkpoint files."
   ]
  },
  {
   "cell_type": "code",
   "execution_count": null,
   "metadata": {},
   "outputs": [],
   "source": [
    "agent=  Agent(action_dim=action_dim, random_seed=42)\n",
    "\n",
    "# Load the weights from file.\n",
    "agent.actor_local.load_state_dict(torch.load(Path('models', 'checkpoint_actor.pth'), map_location='cpu'))"
   ]
  },
  {
   "cell_type": "code",
   "execution_count": null,
   "metadata": {},
   "outputs": [],
   "source": [
    "n_timesteps = 1_000\n",
    "ep_reward = 0\n",
    "\n",
    "state = env.reset()\n",
    "for timestep in range(n_timesteps):\n",
    "    action = agent.act(state)\n",
    "    next_state, reward, is_done, _ = env.step(action)\n",
    "    agent.step(state, action, reward, next_state, is_done)\n",
    "    \n",
    "    state = next_state\n",
    "    ep_reward += reward\n",
    "\n",
    "    env.render()\n",
    "    if is_done:\n",
    "        break\n",
    "\n",
    "print(f'Total reward this episode: {ep_reward}')"
   ]
  }
 ],
 "metadata": {
  "kernelspec": {
   "display_name": "Python 3",
   "language": "python",
   "name": "python3"
  },
  "language_info": {
   "codemirror_mode": {
    "name": "ipython",
    "version": 3
   },
   "file_extension": ".py",
   "mimetype": "text/x-python",
   "name": "python",
   "nbconvert_exporter": "python",
   "pygments_lexer": "ipython3",
   "version": "3.8.6"
  }
 },
 "nbformat": 4,
 "nbformat_minor": 2
}
