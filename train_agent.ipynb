{
 "cells": [
  {
   "cell_type": "code",
   "execution_count": null,
   "metadata": {},
   "outputs": [],
   "source": [
    "import gym\n",
    "import matplotlib.pyplot as plt\n",
    "from pathlib import Path\n",
    "import torch\n",
    "\n",
    "from ddpg_agent import Agent"
   ]
  },
  {
   "cell_type": "code",
   "execution_count": null,
   "metadata": {
    "scrolled": true
   },
   "outputs": [],
   "source": [
    "env_name = 'CarRacing-v0'\n",
    "env = gym.make(env_name, verbose=0)\n",
    "action_dim = env.action_space.shape[0]"
   ]
  },
  {
   "cell_type": "code",
   "execution_count": null,
   "metadata": {},
   "outputs": [],
   "source": [
    "def train_agent(agent,\n",
    "                n_episodes=4_000,\n",
    "                n_timesteps=1_000,\n",
    "                solved_reward=900,\n",
    "                log_interval=100,\n",
    "                render=False):      # Rendering is laggy.\n",
    "\n",
    "    reward_history = []\n",
    "    \n",
    "    for episode in range(1, n_episodes+1):\n",
    "        agent.reset()\n",
    "        state = env.reset()\n",
    "        ep_reward = 0\n",
    "        for timestep in range(n_timesteps):\n",
    "            action = agent.act(state)\n",
    "            next_state, reward, is_done, _ = env.step(action)\n",
    "            \n",
    "            agent.step(state, action, reward, next_state, is_done)\n",
    "            state = next_state\n",
    "            ep_reward += reward\n",
    "            \n",
    "            if render:\n",
    "                env.render()\n",
    "            if is_done:\n",
    "                break\n",
    "                \n",
    "        reward_history.append(ep_reward)\n",
    "\n",
    "        torch.save(agent.actor_local.state_dict(), Path('models', 'checkpoint_actor.pth'))\n",
    "        torch.save(agent.critic_local.state_dict(), Path('models', 'checkpoint_critic.pth'))\n",
    "\n",
    "        if sum(reward_history[-log_interval:]) > (log_interval * solved_reward):\n",
    "            print('Solved!')\n",
    "            break\n",
    "\n",
    "        print(f'Episode #{episode}\\t'\n",
    "              f'Current episode reward: {round(ep_reward)}\\t'\n",
    "              f'Running average reward (previous {min(log_interval, len(reward_history))} episodes): '\n",
    "              f'{round(sum(reward_history[-log_interval:]) / min(log_interval, len(reward_history)))}',\n",
    "              end='\\r')\n",
    "\n",
    "    return reward_history"
   ]
  },
  {
   "cell_type": "markdown",
   "metadata": {},
   "source": [
    "### Train a DDPG agent\n",
    "\n",
    "Run the code cells below to train the agent."
   ]
  },
  {
   "cell_type": "code",
   "execution_count": null,
   "metadata": {},
   "outputs": [],
   "source": [
    "agent = Agent(action_dim=action_dim, seed=42)"
   ]
  },
  {
   "cell_type": "code",
   "execution_count": null,
   "metadata": {},
   "outputs": [],
   "source": [
    "history = train_agent(agent)"
   ]
  },
  {
   "cell_type": "code",
   "execution_count": null,
   "metadata": {},
   "outputs": [],
   "source": [
    "fig, ax = plt.subplots(figsize=(12, 8))\n",
    "plt.plot(range(1, len(history)+1), history)\n",
    "plt.ylabel('Reward')\n",
    "plt.xlabel('Episode #')\n",
    "plt.show()"
   ]
  },
  {
   "cell_type": "code",
   "execution_count": null,
   "metadata": {},
   "outputs": [],
   "source": []
  }
 ],
 "metadata": {
  "kernelspec": {
   "display_name": "Python 3",
   "language": "python",
   "name": "python3"
  },
  "language_info": {
   "codemirror_mode": {
    "name": "ipython",
    "version": 3
   },
   "file_extension": ".py",
   "mimetype": "text/x-python",
   "name": "python",
   "nbconvert_exporter": "python",
   "pygments_lexer": "ipython3",
   "version": "3.8.6"
  }
 },
 "nbformat": 4,
 "nbformat_minor": 2
}
